{
  "nbformat": 4,
  "nbformat_minor": 0,
  "metadata": {
    "colab": {
      "provenance": []
    },
    "kernelspec": {
      "name": "python3",
      "display_name": "Python 3"
    },
    "language_info": {
      "name": "python"
    }
  },
  "cells": [
    {
      "cell_type": "code",
      "source": [
        "\n"
      ],
      "metadata": {
        "id": "Uz7V7YYD6zuL"
      },
      "execution_count": null,
      "outputs": []
    },
    {
      "cell_type": "markdown",
      "source": [
        "pyton programlama dilinde print komutu ekrandan kullanıcıya bilgi veren bir koddur.\n",
        "\n",
        "Veri Yapıları ve Algoritmalar dersi ilk kodlama çıktısıdır. İGÜ İSTKA AKEDEMİ MERKEZİ -19.08.2024"
      ],
      "metadata": {
        "id": "FqYcuHhs6wL7"
      }
    },
    {
      "cell_type": "code",
      "execution_count": null,
      "metadata": {
        "colab": {
          "base_uri": "https://localhost:8080/"
        },
        "id": "JHC_FQTY3UVo",
        "outputId": "8dad2bbc-8dfe-4fa4-e714-593ef3bc6460"
      },
      "outputs": [
        {
          "output_type": "stream",
          "name": "stdout",
          "text": [
            "merhaba metin\n",
            "3.10.12 (main, Jul 29 2024, 16:56:48) [GCC 11.4.0]\n",
            "Mounted at /content/drive\n",
            "/content/drive/MyDrive/VERI_YAPILARI_ISTKA\n"
          ]
        }
      ],
      "source": [
        "# prompt: print(\"merhaba metin\");\n",
        "\n",
        "print(\"merhaba metin\")\n",
        "import sys\n",
        "print(sys.version)\n",
        "\n",
        "from google.colab import drive # google colab- drive bağlantisi\n",
        "drive.mount('/content/drive')\n",
        "\n",
        "import os\n",
        "os.chdir(\"/content/drive/MyDrive/VERI_YAPILARI_ISTKA\")\n",
        "\n",
        "!pwd   # bize kodun cıktısını dosya yolu olarak veren kod blogdur.\n",
        "\n",
        "\n",
        "\n"
      ]
    },
    {
      "cell_type": "code",
      "source": [
        "# gecerli degisken tanımlaması\n",
        "degisken_1 = 10\n",
        "Degisken2 = 10\n",
        "_degisken3 = 10"
      ],
      "metadata": {
        "id": "NhcYtHQKwbWN"
      },
      "execution_count": null,
      "outputs": []
    },
    {
      "cell_type": "code",
      "source": [
        "# gecersiz degisken tanımlaması\n",
        "1degisken = 10\n",
        "Degisken-2 = 10\n"
      ],
      "metadata": {
        "colab": {
          "base_uri": "https://localhost:8080/",
          "height": 106
        },
        "id": "YAkHx--bwc8l",
        "outputId": "72f3265f-e45e-47d0-bdc7-3f4aa2b5ec7c"
      },
      "execution_count": null,
      "outputs": [
        {
          "output_type": "error",
          "ename": "SyntaxError",
          "evalue": "invalid decimal literal (<ipython-input-3-97517e557ff0>, line 2)",
          "traceback": [
            "\u001b[0;36m  File \u001b[0;32m\"<ipython-input-3-97517e557ff0>\"\u001b[0;36m, line \u001b[0;32m2\u001b[0m\n\u001b[0;31m    1degisken = 10\u001b[0m\n\u001b[0m    ^\u001b[0m\n\u001b[0;31mSyntaxError\u001b[0m\u001b[0;31m:\u001b[0m invalid decimal literal\n"
          ]
        }
      ]
    },
    {
      "cell_type": "code",
      "source": [
        "x = 5\n",
        "y = \"merhaba dunya\"\n",
        "z = x + x\n",
        "print(z)\n",
        "print(y)"
      ],
      "metadata": {
        "id": "a2L-AIqqACKc",
        "colab": {
          "base_uri": "https://localhost:8080/"
        },
        "outputId": "9464ed7c-1ccd-434e-b320-b5fc9d97fe11"
      },
      "execution_count": null,
      "outputs": [
        {
          "output_type": "stream",
          "name": "stdout",
          "text": [
            "10\n",
            "merhaba dunya\n"
          ]
        }
      ]
    },
    {
      "cell_type": "code",
      "source": [
        "#integer  bir sayı tanımlaması\n",
        "a = 10\n",
        "print(type(a))\n"
      ],
      "metadata": {
        "colab": {
          "base_uri": "https://localhost:8080/"
        },
        "id": "vNGu5Y3O50DX",
        "outputId": "3517812e-c886-4cce-f1a8-9aecf304090f"
      },
      "execution_count": null,
      "outputs": [
        {
          "output_type": "stream",
          "name": "stdout",
          "text": [
            "<class 'int'>\n"
          ]
        }
      ]
    },
    {
      "cell_type": "code",
      "source": [
        "#float  bir sayı tanımlaması\n",
        "b = 10.0\n",
        "print(type(b))"
      ],
      "metadata": {
        "colab": {
          "base_uri": "https://localhost:8080/"
        },
        "id": "3iUzuWPO6nKZ",
        "outputId": "a6c390ab-aea7-406b-a12e-5abdd3ac52b8"
      },
      "execution_count": null,
      "outputs": [
        {
          "output_type": "stream",
          "name": "stdout",
          "text": [
            "<class 'float'>\n"
          ]
        }
      ]
    },
    {
      "cell_type": "code",
      "source": [
        "#int 'ten floata'a cevirimin gerçekleştiriilşmesi\n",
        "x= 10\n",
        "y = float(x)\n",
        "print(y, type(y))"
      ],
      "metadata": {
        "colab": {
          "base_uri": "https://localhost:8080/"
        },
        "id": "7_cXE_0_557-",
        "outputId": "4aab6a00-0051-4093-a013-03ae87cf82ec"
      },
      "execution_count": null,
      "outputs": [
        {
          "output_type": "stream",
          "name": "stdout",
          "text": [
            "10.0 <class 'float'>\n"
          ]
        }
      ]
    },
    {
      "cell_type": "code",
      "source": [
        "#float'tan int'e çevirimin gerçekleştirilmesi\n",
        "a = 12.34\n",
        "b = int(a)\n",
        "print(b, type(b))"
      ],
      "metadata": {
        "colab": {
          "base_uri": "https://localhost:8080/"
        },
        "id": "9N4AIBrT7ILO",
        "outputId": "3307b0a8-c965-4578-c7b6-861faeebf0fb"
      },
      "execution_count": null,
      "outputs": [
        {
          "output_type": "stream",
          "name": "stdout",
          "text": [
            "12 <class 'int'>\n"
          ]
        }
      ]
    },
    {
      "cell_type": "code",
      "source": [
        "# String  - Metinsel  içerik tanımlanması\n",
        "c = \"metin bitergiller\"\n",
        "print(c)\n",
        "print(type(c))"
      ],
      "metadata": {
        "colab": {
          "base_uri": "https://localhost:8080/"
        },
        "id": "zCwDvrZn7a8b",
        "outputId": "d4deac9d-9085-4235-dd0a-8f222a354099"
      },
      "execution_count": null,
      "outputs": [
        {
          "output_type": "stream",
          "name": "stdout",
          "text": [
            "metin bitergiller\n",
            "<class 'str'>\n"
          ]
        }
      ]
    },
    {
      "cell_type": "code",
      "source": [
        "# boolean (True - False)  - Doğru/yanlış tanımlanması\n",
        "d = True\n",
        "e = False\n",
        "print(d)\n",
        "print(type(e))\n"
      ],
      "metadata": {
        "colab": {
          "base_uri": "https://localhost:8080/"
        },
        "id": "qf8rNEU-77L6",
        "outputId": "6f1cbd94-caac-432c-ef15-8d977a27e34a"
      },
      "execution_count": null,
      "outputs": [
        {
          "output_type": "stream",
          "name": "stdout",
          "text": [
            "True\n",
            "<class 'bool'>\n"
          ]
        }
      ]
    },
    {
      "cell_type": "code",
      "source": [
        "# Liste -Liste tanımlanması\n",
        "\n",
        "my_list = [1,2,3,4,5]\n",
        "print(my_list)\n",
        "print(type(my_list))"
      ],
      "metadata": {
        "colab": {
          "base_uri": "https://localhost:8080/"
        },
        "id": "GBhmm0aF98Ux",
        "outputId": "f89dc4f6-1cf8-4ac8-ae69-f549eca9b462"
      },
      "execution_count": null,
      "outputs": [
        {
          "output_type": "stream",
          "name": "stdout",
          "text": [
            "[1, 2, 3, 4, 5]\n",
            "<class 'list'>\n"
          ]
        }
      ]
    },
    {
      "cell_type": "code",
      "source": [
        "#Tuble - Demet tanımlanması\n",
        "my_tuple = (1,2,3,4,5)#demet\n",
        "print(my_tuple)\n",
        "print(type(my_tuple))"
      ],
      "metadata": {
        "id": "kcQ7bPAg-Ppc"
      },
      "execution_count": null,
      "outputs": []
    },
    {
      "cell_type": "markdown",
      "source": [
        "Dictionary - Sözlük nedir?\n",
        "1sözlükler, anahtar"
      ],
      "metadata": {
        "id": "_GHZNujV_dMv"
      }
    },
    {
      "cell_type": "code",
      "source": [
        "# Dictionary - Sözlük örneği _ Öğrencilerin notları\n",
        "notlar = {\n",
        "    \"ali\": 85,\n",
        "    \"veli\": 90,\n",
        "    \"ahmet\": 75\n",
        "}\n",
        "\n",
        "notlar[\"fatma\"] = 95 # Yeni öğrenci ekleme\n",
        "notlar[\"ali\"] = 92 # Ali'nin notunu güncelleme\n",
        "del notlar[\"veli\"] # Veli'yi silme\n",
        "print(notlar)\n",
        "print(type(notlar))\n"
      ],
      "metadata": {
        "colab": {
          "base_uri": "https://localhost:8080/"
        },
        "id": "6fj0vpXM_4MP",
        "outputId": "807a235b-a8d4-4586-bfc5-df457172055b"
      },
      "execution_count": null,
      "outputs": [
        {
          "output_type": "stream",
          "name": "stdout",
          "text": [
            "{'ali': 92, 'ahmet': 75, 'fatma': 95}\n",
            "<class 'dict'>\n"
          ]
        }
      ]
    },
    {
      "cell_type": "code",
      "source": [
        "print(notlar.keys()) # dict_keys(['isim'\"])\n",
        "print(notlar.values())\n",
        "print(notlar.items())"
      ],
      "metadata": {
        "colab": {
          "base_uri": "https://localhost:8080/"
        },
        "id": "-Tdkv8uxBN0J",
        "outputId": "50aed2d2-a52a-4cfd-c7cd-a2b2b1fb881b"
      },
      "execution_count": null,
      "outputs": [
        {
          "output_type": "stream",
          "name": "stdout",
          "text": [
            "dict_keys(['ali', 'ahmet', 'fatma'])\n",
            "dict_values([92, 75, 95])\n",
            "dict_items([('ali', 92), ('ahmet', 75), ('fatma', 95)])\n"
          ]
        }
      ]
    },
    {
      "cell_type": "code",
      "source": [
        "# Set - Küme Örneği -> bir yazılım etkinliği katılan kişilerin oluşturduğu kömeler\n",
        "kodyazanlar = {\"ahmet\", \"mehmet\", \"ali\"}\n",
        "kodyazmayanlar = {\"ahmet\", \"ayşe\", \"fatma\"}\n",
        "# kafasına göre takılan öğrenciler\n",
        "ortak = kodyazanlar.intersection(kodyazmayanlar)\n",
        "print(\"kafasına gör etakılan ogrenciler listesi:\",ortak)\n",
        "\n",
        "#Etkinlikte Kod Çalışması yapmayan Öğrencilerin Tespiti\n",
        "Kod_yazmayan = kodyazmayanlar.difference(kodyazanlar)\n",
        "print(\"kod yazmayanlar listesi:\",Kod_yazmayan)\n",
        "\n",
        "#Yazılım eğitiminin Öğrenci İmza Listesi\n",
        "Imza_listesi = kodyazanlar.union(kodyazmayanlar)\n",
        "print(\"etkinlik katılımcıları:\",Imza_listesi)\n",
        "\n",
        "print(type(ortak))\n",
        "print(kodyazanlar)\n",
        "print(type(kodyazanlar))"
      ],
      "metadata": {
        "colab": {
          "base_uri": "https://localhost:8080/"
        },
        "id": "qb9I0jtpB8Yu",
        "outputId": "980fa8d1-17ac-4139-c560-e595c57c3c18"
      },
      "execution_count": null,
      "outputs": [
        {
          "output_type": "stream",
          "name": "stdout",
          "text": [
            "kafasına gör etakılan ogrenciler listesi: {'ahmet'}\n",
            "kod yazmayanlar listesi: {'ayşe', 'fatma'}\n",
            "etkinlik katılımcıları: {'ali', 'ahmet', 'ayşe', 'mehmet', 'fatma'}\n",
            "<class 'set'>\n",
            "{'mehmet', 'ali', 'ahmet'}\n",
            "<class 'set'>\n"
          ]
        }
      ]
    },
    {
      "cell_type": "code",
      "source": [
        "giris = input(\"bir sayı giriniz:\")\n",
        "try:\n",
        "  num = float(giris)\n",
        "  print(f\"girdiğiniz sayı: {num}, tipi: {type(num)},\", abs(num))\n",
        "except ValueError:\n",
        "  print(\"geçersiz giriş\")"
      ],
      "metadata": {
        "colab": {
          "base_uri": "https://localhost:8080/"
        },
        "id": "UNRymZ0kEE0r",
        "outputId": "c440096d-ac0e-476f-8d57-f0768ef8346e"
      },
      "execution_count": null,
      "outputs": [
        {
          "output_type": "stream",
          "name": "stdout",
          "text": [
            "bir sayı giriniz:metin\n",
            "geçersiz giriş\n"
          ]
        }
      ]
    },
    {
      "cell_type": "code",
      "source": [
        "# 0 ile 1 arasında rasgele bir ondalık sayı üretir\n",
        "\n",
        "import random\n",
        "random_float = random.random()\n",
        "random_aralık = random.randint(1,10)\n",
        "random_number = random.uniform(1,10)\n",
        "print(random_aralık)\n",
        "print(random_number)"
      ],
      "metadata": {
        "colab": {
          "base_uri": "https://localhost:8080/"
        },
        "id": "EHdmyoNNFBl9",
        "outputId": "8faf5153-d3eb-4ab7-c2bd-fb3d7508a4a6"
      },
      "execution_count": null,
      "outputs": [
        {
          "output_type": "stream",
          "name": "stdout",
          "text": [
            "4\n",
            "5.519768245302747\n"
          ]
        }
      ]
    },
    {
      "cell_type": "code",
      "source": [
        "#if koşul yapısı\n",
        "x = 5\n",
        "if x > 0:\n",
        "  print(\"x pozitiftir\")\n",
        "  print(x)\n",
        "elif x < 0:\n",
        "  print(\"x negatiftir\")\n",
        "  print(x)\n",
        "else:\n",
        "  print(\"x sıfırdır\")\n",
        "  print(x)"
      ],
      "metadata": {
        "id": "jkH0EBDB_cgP",
        "colab": {
          "base_uri": "https://localhost:8080/"
        },
        "outputId": "5e1830fe-5cb5-49df-a93c-c69f6bf1724c"
      },
      "execution_count": null,
      "outputs": [
        {
          "output_type": "stream",
          "name": "stdout",
          "text": [
            "x pozitiftir\n",
            "5\n"
          ]
        }
      ]
    },
    {
      "cell_type": "code",
      "source": [
        "# iç içe Koşul Yapısı\n",
        "x = 5\n",
        "y = 10\n",
        "if x > 0:\n",
        "  if y > 0:\n",
        "    print(\"x ve y pozitiftir\")\n",
        "  else:\n",
        "    print(\"x pozitiftir, y negatiftir\")"
      ],
      "metadata": {
        "colab": {
          "base_uri": "https://localhost:8080/"
        },
        "id": "Tr5lvgdCDukc",
        "outputId": "1fc3b127-6c54-4696-d192-918c8ae6f6c2"
      },
      "execution_count": null,
      "outputs": [
        {
          "output_type": "stream",
          "name": "stdout",
          "text": [
            "x ve y pozitiftir\n"
          ]
        }
      ]
    },
    {
      "cell_type": "code",
      "source": [
        "# bir yaş aralığını kontrol eden kod\n",
        "yas = 18\n",
        "if yas >= 18:\n",
        "  print(\"yaşınız uygun\")\n",
        "else:\n",
        "  print(\"yaşınız uygun değil\")"
      ],
      "metadata": {
        "id": "8joAuqFlIdw7",
        "colab": {
          "base_uri": "https://localhost:8080/"
        },
        "outputId": "37e1fb6f-9cfd-435f-ef8d-1e41ee521c28"
      },
      "execution_count": 4,
      "outputs": [
        {
          "output_type": "stream",
          "name": "stdout",
          "text": [
            "yaşınız uygun\n"
          ]
        }
      ]
    },
    {
      "cell_type": "code",
      "source": [
        "#mantıksal operatörler ile ilgili birer örnek\n",
        "x = 5\n",
        "y = 10\n",
        "if x > 0 and y > 0:\n",
        "  print(\"x ve y pozitiftir\")\n",
        "if x > 0 or y > 0:\n",
        "  print(\"x veya y pozitiftir\")\n",
        "  if not x > 0:\n",
        "    print(\"x negatiftir\")"
      ],
      "metadata": {
        "id": "1KgM5Tg4Fl_b"
      },
      "execution_count": null,
      "outputs": []
    },
    {
      "cell_type": "code",
      "source": [
        "#for döngüsü örneği : 0'dan 4'e kadar\n",
        "for i in range(5):\n",
        "  print(i)"
      ],
      "metadata": {
        "colab": {
          "base_uri": "https://localhost:8080/"
        },
        "id": "Nt_cQfjK9vt7",
        "outputId": "f5d40c09-1f50-4a12-bbc3-1a44597bb0be"
      },
      "execution_count": 2,
      "outputs": [
        {
          "output_type": "stream",
          "name": "stdout",
          "text": [
            "0\n",
            "1\n",
            "2\n",
            "3\n",
            "4\n"
          ]
        }
      ]
    },
    {
      "cell_type": "code",
      "source": [
        "#for döngüsü örneği: alışveriş listesi oluşturma\n",
        "alısveris_listesi = [\"elma\", \"armut\", \"muz\"]\n",
        "for urun in alısveris_listesi:\n",
        "  print(urun)"
      ],
      "metadata": {
        "colab": {
          "base_uri": "https://localhost:8080/"
        },
        "id": "3IHTL0R2Aa5r",
        "outputId": "7c8af825-2974-4d4b-f8b4-11c8ee48bc86"
      },
      "execution_count": 5,
      "outputs": [
        {
          "output_type": "stream",
          "name": "stdout",
          "text": [
            "elma\n",
            "armut\n",
            "muz\n"
          ]
        }
      ]
    },
    {
      "cell_type": "code",
      "source": [
        "# bir sınıftaki öğrencilerin notlarının ortalamasını hesaplama\n",
        "notlar = [85, 92, 78, 95, 88]\n",
        "toplam = 0\n",
        "for sayilar in notlar:\n",
        "  toplam += sayilar\n",
        "ortalama = toplam / len(notlar)\n",
        "print(\"Birinci print -> Not ortalaması:\", ortalama)\n",
        "print(f\"ikinci print -> Not ortalaması: {ortalama}\")\n",
        "\n",
        "\n",
        "\n"
      ],
      "metadata": {
        "colab": {
          "base_uri": "https://localhost:8080/"
        },
        "id": "o6GBNGZxCuwt",
        "outputId": "5e47498c-4f15-4a88-e2eb-54a403a9a791"
      },
      "execution_count": 9,
      "outputs": [
        {
          "output_type": "stream",
          "name": "stdout",
          "text": [
            "Birinci print -> Not ortalaması: 87.6\n",
            "ikinci print -> Not ortalaması: 87.6\n"
          ]
        }
      ]
    },
    {
      "cell_type": "code",
      "source": [
        "#while döngüsü örneği: 0'dan 4'e kadar olan sayıları yazdırılması işlemidir\n",
        "\n",
        "i = 0\n",
        "while i < 5:\n",
        "  print(i)\n",
        "  i += 1"
      ],
      "metadata": {
        "colab": {
          "base_uri": "https://localhost:8080/"
        },
        "id": "rcXAnB8SFpI4",
        "outputId": "30de8c30-4a2c-4cdf-8820-a60bf20bf61c"
      },
      "execution_count": 10,
      "outputs": [
        {
          "output_type": "stream",
          "name": "stdout",
          "text": [
            "0\n",
            "1\n",
            "2\n",
            "3\n",
            "4\n"
          ]
        }
      ]
    },
    {
      "cell_type": "code",
      "source": [
        "#kullanıcıdan bir sayı alınması\n",
        "\n",
        "sayi = int(input(\"bir sayı giriniz:\"))\n",
        "if sayi % 2 == 0:\n",
        "  print(\"sayı çifttir\")\n",
        "\n",
        "\n",
        "  #0'dan kullanıcı tarafından girilen sayıya kadar sıralama yapma while ile\n",
        "\n",
        "sayi = int(input(\"bir sayı giriniz:\"))\n",
        "i = 0\n",
        "while i <= sayi:\n",
        "  print(i)\n",
        "  i += 1"
      ],
      "metadata": {
        "colab": {
          "base_uri": "https://localhost:8080/"
        },
        "id": "Z889Q8fvOlIF",
        "outputId": "625a7fa7-ff31-4325-baa5-e9d36990fa0c"
      },
      "execution_count": 16,
      "outputs": [
        {
          "output_type": "stream",
          "name": "stdout",
          "text": [
            "bir sayı giriniz:4\n",
            "sayı çifttir\n",
            "bir sayı giriniz:8\n",
            "0\n",
            "1\n",
            "2\n",
            "3\n",
            "4\n",
            "5\n",
            "6\n",
            "7\n",
            "8\n"
          ]
        }
      ]
    },
    {
      "cell_type": "code",
      "source": [
        "# break örneği: 3'e ulaştığında döngü spnlandıran kod bloğudur.\n",
        "\n",
        "for i in range(10):\n",
        "  if i == 3:\n",
        "    break\n",
        "  print(i)"
      ],
      "metadata": {
        "id": "KrylvMBFO0IQ"
      },
      "execution_count": null,
      "outputs": []
    },
    {
      "cell_type": "code",
      "source": [
        "#contineu örneği: 3'e ulştığında o tekrar işlemini es geçen kod bloğudur\n",
        "\n",
        "for i in range(10):\n",
        "  if i == 3:\n",
        "    continue\n",
        "  print(i)\n"
      ],
      "metadata": {
        "colab": {
          "base_uri": "https://localhost:8080/"
        },
        "id": "zvlVXwN6QjGw",
        "outputId": "973410fd-de5c-4671-8678-dda63e699fb6"
      },
      "execution_count": 18,
      "outputs": [
        {
          "output_type": "stream",
          "name": "stdout",
          "text": [
            "0\n",
            "1\n",
            "2\n",
            "4\n",
            "5\n",
            "6\n",
            "7\n",
            "8\n",
            "9\n"
          ]
        }
      ]
    },
    {
      "cell_type": "code",
      "source": [
        "# iç içe for döngüsü örneği: 2 boyutlu bir matrisin elemanları üzerinde işlemler\n",
        "matris = [[1,2,3],[4,5,6],[7,8,9]]\n",
        "\n",
        "for satir in matris:\n",
        "  for eleman in satir:\n",
        "    print(eleman)\n",
        "    #sonuç matris şeklinde yaz\n",
        "\n"
      ],
      "metadata": {
        "colab": {
          "base_uri": "https://localhost:8080/"
        },
        "id": "dpx41Du-RpBP",
        "outputId": "60793000-6b35-4a54-95e7-649af6c804e7"
      },
      "execution_count": 27,
      "outputs": [
        {
          "output_type": "stream",
          "name": "stdout",
          "text": [
            "1\n",
            "2\n",
            "3\n",
            "4\n",
            "5\n",
            "6\n",
            "7\n",
            "8\n",
            "9\n"
          ]
        }
      ]
    },
    {
      "cell_type": "code",
      "source": [
        "#kullanıcıdan bilgi alınması\n",
        "while True:\n",
        "  try:\n",
        "      gelen_bilgi = int(input(\"bir sayı giriniz:\"))\n",
        "      break\n",
        "  except ValueError:\n",
        "    print(\"geçersiz giriş\")\n"
      ],
      "metadata": {
        "colab": {
          "base_uri": "https://localhost:8080/"
        },
        "id": "kDAFSy0kUAqQ",
        "outputId": "d66de8f7-76ef-4a68-e32e-ef63a2aa01da"
      },
      "execution_count": 34,
      "outputs": [
        {
          "name": "stdout",
          "output_type": "stream",
          "text": [
            "bir sayı giriniz:44\n"
          ]
        }
      ]
    },
    {
      "cell_type": "code",
      "source": [
        "#while döngüsünün örneği: kullanıcı bakiye bilgisinin sorgulanması\n",
        "\n",
        "toplam_bakiye = 1000\n",
        "while toplam_bakiye > 0:\n",
        "      try:\n",
        "        celinen_tutar = int(input(\"çekmek istediğiniz tutarı giriniz:\"))\n",
        "        if celinen_tutar > toplam_bakiye:\n",
        "          print(\"yetersiz bakiye\")\n",
        "          bilgi = input(\"işleme devam etmek istiyor musunuz?(e/h)\")\n",
        "          if bilgi == \"h\":\n",
        "            print(\"işleminiz iptal edildi\")\n",
        "            break\n",
        "        else:\n",
        "          toplam_bakiye -= celinen_tutar\n",
        "          print(f\"kalan bakiyeniz: {toplam_bakiye}\")\n",
        "        if toplam_bakiye == 0:\n",
        "            print(\"bakiyeniz sıfırlandı\")\n",
        "            break\n",
        "\n",
        "      except ValueError:\n",
        "        print(\"geçersiz giriş\")\n"
      ],
      "metadata": {
        "colab": {
          "base_uri": "https://localhost:8080/"
        },
        "id": "zHiCi4i3VTys",
        "outputId": "5f0d458d-f043-4e73-af27-c933f38d1c74"
      },
      "execution_count": 35,
      "outputs": [
        {
          "output_type": "stream",
          "name": "stdout",
          "text": [
            "çekmek istediğiniz tutarı giriniz:40\n",
            "kalan bakiyeniz: 960\n",
            "çekmek istediğiniz tutarı giriniz:880\n",
            "kalan bakiyeniz: 80\n",
            "çekmek istediğiniz tutarı giriniz:81\n",
            "yetersiz bakiye\n",
            "işleme devam etmek istiyor musunuz?(e/h)h\n",
            "işleminiz iptal edildi\n"
          ]
        }
      ]
    }
  ]
}
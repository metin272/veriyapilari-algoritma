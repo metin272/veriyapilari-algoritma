{
  "nbformat": 4,
  "nbformat_minor": 0,
  "metadata": {
    "colab": {
      "provenance": []
    },
    "kernelspec": {
      "name": "python3",
      "display_name": "Python 3"
    },
    "language_info": {
      "name": "python"
    }
  },
  "cells": [
    {
      "cell_type": "code",
      "source": [
        "\n"
      ],
      "metadata": {
        "id": "Uz7V7YYD6zuL"
      },
      "execution_count": null,
      "outputs": []
    },
    {
      "cell_type": "markdown",
      "source": [
        "pyton programlama dilinde print komutu ekrandan kullanıcıya bilgi veren bir koddur.\n",
        "\n",
        "Veri Yapıları ve Algoritmalar dersi ilk kodlama çıktısıdır. İGÜ İSTKA AKEDEMİ MERKEZİ -19.08.2024"
      ],
      "metadata": {
        "id": "FqYcuHhs6wL7"
      }
    },
    {
      "cell_type": "code",
      "execution_count": null,
      "metadata": {
        "colab": {
          "base_uri": "https://localhost:8080/"
        },
        "id": "JHC_FQTY3UVo",
        "outputId": "8dad2bbc-8dfe-4fa4-e714-593ef3bc6460"
      },
      "outputs": [
        {
          "output_type": "stream",
          "name": "stdout",
          "text": [
            "merhaba metin\n",
            "3.10.12 (main, Jul 29 2024, 16:56:48) [GCC 11.4.0]\n",
            "Mounted at /content/drive\n",
            "/content/drive/MyDrive/VERI_YAPILARI_ISTKA\n"
          ]
        }
      ],
      "source": [
        "# prompt: print(\"merhaba metin\");\n",
        "\n",
        "print(\"merhaba metin\")\n",
        "import sys\n",
        "print(sys.version)\n",
        "\n",
        "from google.colab import drive # google colab- drive bağlantisi\n",
        "drive.mount('/content/drive')\n",
        "\n",
        "import os\n",
        "os.chdir(\"/content/drive/MyDrive/VERI_YAPILARI_ISTKA\")\n",
        "\n",
        "!pwd   # bize kodun cıktısını dosya yolu olarak veren kod blogdur.\n",
        "\n",
        "\n",
        "\n"
      ]
    },
    {
      "cell_type": "code",
      "source": [
        "# gecerli degisken tanımlaması\n",
        "degisken_1 = 10\n",
        "Degisken2 = 10\n",
        "_degisken3 = 10"
      ],
      "metadata": {
        "id": "NhcYtHQKwbWN"
      },
      "execution_count": null,
      "outputs": []
    },
    {
      "cell_type": "code",
      "source": [
        "# gecersiz degisken tanımlaması\n",
        "1degisken = 10\n",
        "Degisken-2 = 10\n"
      ],
      "metadata": {
        "colab": {
          "base_uri": "https://localhost:8080/",
          "height": 106
        },
        "id": "YAkHx--bwc8l",
        "outputId": "72f3265f-e45e-47d0-bdc7-3f4aa2b5ec7c"
      },
      "execution_count": null,
      "outputs": [
        {
          "output_type": "error",
          "ename": "SyntaxError",
          "evalue": "invalid decimal literal (<ipython-input-3-97517e557ff0>, line 2)",
          "traceback": [
            "\u001b[0;36m  File \u001b[0;32m\"<ipython-input-3-97517e557ff0>\"\u001b[0;36m, line \u001b[0;32m2\u001b[0m\n\u001b[0;31m    1degisken = 10\u001b[0m\n\u001b[0m    ^\u001b[0m\n\u001b[0;31mSyntaxError\u001b[0m\u001b[0;31m:\u001b[0m invalid decimal literal\n"
          ]
        }
      ]
    },
    {
      "cell_type": "code",
      "source": [
        "x = 5\n",
        "y = \"merhaba dunya\"\n",
        "z = x + x\n",
        "print(z)\n",
        "print(y)"
      ],
      "metadata": {
        "id": "a2L-AIqqACKc",
        "colab": {
          "base_uri": "https://localhost:8080/"
        },
        "outputId": "9464ed7c-1ccd-434e-b320-b5fc9d97fe11"
      },
      "execution_count": null,
      "outputs": [
        {
          "output_type": "stream",
          "name": "stdout",
          "text": [
            "10\n",
            "merhaba dunya\n"
          ]
        }
      ]
    },
    {
      "cell_type": "code",
      "source": [
        "#integer  bir sayı tanımlaması\n",
        "a = 10\n",
        "print(type(a))\n"
      ],
      "metadata": {
        "colab": {
          "base_uri": "https://localhost:8080/"
        },
        "id": "vNGu5Y3O50DX",
        "outputId": "3517812e-c886-4cce-f1a8-9aecf304090f"
      },
      "execution_count": null,
      "outputs": [
        {
          "output_type": "stream",
          "name": "stdout",
          "text": [
            "<class 'int'>\n"
          ]
        }
      ]
    },
    {
      "cell_type": "code",
      "source": [
        "#float  bir sayı tanımlaması\n",
        "b = 10.0\n",
        "print(type(b))"
      ],
      "metadata": {
        "colab": {
          "base_uri": "https://localhost:8080/"
        },
        "id": "3iUzuWPO6nKZ",
        "outputId": "a6c390ab-aea7-406b-a12e-5abdd3ac52b8"
      },
      "execution_count": null,
      "outputs": [
        {
          "output_type": "stream",
          "name": "stdout",
          "text": [
            "<class 'float'>\n"
          ]
        }
      ]
    },
    {
      "cell_type": "code",
      "source": [
        "#int 'ten floata'a cevirimin gerçekleştiriilşmesi\n",
        "x= 10\n",
        "y = float(x)\n",
        "print(y, type(y))"
      ],
      "metadata": {
        "colab": {
          "base_uri": "https://localhost:8080/"
        },
        "id": "7_cXE_0_557-",
        "outputId": "4aab6a00-0051-4093-a013-03ae87cf82ec"
      },
      "execution_count": null,
      "outputs": [
        {
          "output_type": "stream",
          "name": "stdout",
          "text": [
            "10.0 <class 'float'>\n"
          ]
        }
      ]
    },
    {
      "cell_type": "code",
      "source": [
        "#float'tan int'e çevirimin gerçekleştirilmesi\n",
        "a = 12.34\n",
        "b = int(a)\n",
        "print(b, type(b))"
      ],
      "metadata": {
        "colab": {
          "base_uri": "https://localhost:8080/"
        },
        "id": "9N4AIBrT7ILO",
        "outputId": "3307b0a8-c965-4578-c7b6-861faeebf0fb"
      },
      "execution_count": null,
      "outputs": [
        {
          "output_type": "stream",
          "name": "stdout",
          "text": [
            "12 <class 'int'>\n"
          ]
        }
      ]
    },
    {
      "cell_type": "code",
      "source": [
        "# String  - Metinsel  içerik tanımlanması\n",
        "c = \"metin bitergiller\"\n",
        "print(c)\n",
        "print(type(c))"
      ],
      "metadata": {
        "colab": {
          "base_uri": "https://localhost:8080/"
        },
        "id": "zCwDvrZn7a8b",
        "outputId": "d4deac9d-9085-4235-dd0a-8f222a354099"
      },
      "execution_count": null,
      "outputs": [
        {
          "output_type": "stream",
          "name": "stdout",
          "text": [
            "metin bitergiller\n",
            "<class 'str'>\n"
          ]
        }
      ]
    },
    {
      "cell_type": "code",
      "source": [
        "# boolean (True - False)  - Doğru/yanlış tanımlanması\n",
        "d = True\n",
        "e = False\n",
        "print(d)\n",
        "print(type(e))\n"
      ],
      "metadata": {
        "colab": {
          "base_uri": "https://localhost:8080/"
        },
        "id": "qf8rNEU-77L6",
        "outputId": "6f1cbd94-caac-432c-ef15-8d977a27e34a"
      },
      "execution_count": null,
      "outputs": [
        {
          "output_type": "stream",
          "name": "stdout",
          "text": [
            "True\n",
            "<class 'bool'>\n"
          ]
        }
      ]
    },
    {
      "cell_type": "code",
      "source": [
        "# Liste -Liste tanımlanması\n",
        "\n",
        "my_list = [1,2,3,4,5]\n",
        "print(my_list)\n",
        "print(type(my_list))"
      ],
      "metadata": {
        "colab": {
          "base_uri": "https://localhost:8080/"
        },
        "id": "GBhmm0aF98Ux",
        "outputId": "f89dc4f6-1cf8-4ac8-ae69-f549eca9b462"
      },
      "execution_count": null,
      "outputs": [
        {
          "output_type": "stream",
          "name": "stdout",
          "text": [
            "[1, 2, 3, 4, 5]\n",
            "<class 'list'>\n"
          ]
        }
      ]
    },
    {
      "cell_type": "code",
      "source": [
        "#Tuble - Demet tanımlanması\n",
        "my_tuple = (1,2,3,4,5)#demet\n",
        "print(my_tuple)\n",
        "print(type(my_tuple))"
      ],
      "metadata": {
        "id": "kcQ7bPAg-Ppc"
      },
      "execution_count": null,
      "outputs": []
    },
    {
      "cell_type": "markdown",
      "source": [
        "Dictionary - Sözlük nedir?\n",
        "1sözlükler, anahtar"
      ],
      "metadata": {
        "id": "_GHZNujV_dMv"
      }
    },
    {
      "cell_type": "code",
      "source": [
        "# Dictionary - Sözlük örneği _ Öğrencilerin notları\n",
        "notlar = {\n",
        "    \"ali\": 85,\n",
        "    \"veli\": 90,\n",
        "    \"ahmet\": 75\n",
        "}\n",
        "\n",
        "notlar[\"fatma\"] = 95 # Yeni öğrenci ekleme\n",
        "notlar[\"ali\"] = 92 # Ali'nin notunu güncelleme\n",
        "del notlar[\"veli\"] # Veli'yi silme\n",
        "print(notlar)\n",
        "print(type(notlar))\n"
      ],
      "metadata": {
        "colab": {
          "base_uri": "https://localhost:8080/"
        },
        "id": "6fj0vpXM_4MP",
        "outputId": "807a235b-a8d4-4586-bfc5-df457172055b"
      },
      "execution_count": null,
      "outputs": [
        {
          "output_type": "stream",
          "name": "stdout",
          "text": [
            "{'ali': 92, 'ahmet': 75, 'fatma': 95}\n",
            "<class 'dict'>\n"
          ]
        }
      ]
    },
    {
      "cell_type": "code",
      "source": [
        "print(notlar.keys()) # dict_keys(['isim'\"])\n",
        "print(notlar.values())\n",
        "print(notlar.items())"
      ],
      "metadata": {
        "colab": {
          "base_uri": "https://localhost:8080/"
        },
        "id": "-Tdkv8uxBN0J",
        "outputId": "50aed2d2-a52a-4cfd-c7cd-a2b2b1fb881b"
      },
      "execution_count": null,
      "outputs": [
        {
          "output_type": "stream",
          "name": "stdout",
          "text": [
            "dict_keys(['ali', 'ahmet', 'fatma'])\n",
            "dict_values([92, 75, 95])\n",
            "dict_items([('ali', 92), ('ahmet', 75), ('fatma', 95)])\n"
          ]
        }
      ]
    },
    {
      "cell_type": "code",
      "source": [
        "# Set - Küme Örneği -> bir yazılım etkinliği katılan kişilerin oluşturduğu kömeler\n",
        "kodyazanlar = {\"ahmet\", \"mehmet\", \"ali\"}\n",
        "kodyazmayanlar = {\"ahmet\", \"ayşe\", \"fatma\"}\n",
        "# kafasına göre takılan öğrenciler\n",
        "ortak = kodyazanlar.intersection(kodyazmayanlar)\n",
        "print(\"kafasına gör etakılan ogrenciler listesi:\",ortak)\n",
        "\n",
        "#Etkinlikte Kod Çalışması yapmayan Öğrencilerin Tespiti\n",
        "Kod_yazmayan = kodyazmayanlar.difference(kodyazanlar)\n",
        "print(\"kod yazmayanlar listesi:\",Kod_yazmayan)\n",
        "\n",
        "#Yazılım eğitiminin Öğrenci İmza Listesi\n",
        "Imza_listesi = kodyazanlar.union(kodyazmayanlar)\n",
        "print(\"etkinlik katılımcıları:\",Imza_listesi)\n",
        "\n",
        "print(type(ortak))\n",
        "print(kodyazanlar)\n",
        "print(type(kodyazanlar))"
      ],
      "metadata": {
        "colab": {
          "base_uri": "https://localhost:8080/"
        },
        "id": "qb9I0jtpB8Yu",
        "outputId": "980fa8d1-17ac-4139-c560-e595c57c3c18"
      },
      "execution_count": null,
      "outputs": [
        {
          "output_type": "stream",
          "name": "stdout",
          "text": [
            "kafasına gör etakılan ogrenciler listesi: {'ahmet'}\n",
            "kod yazmayanlar listesi: {'ayşe', 'fatma'}\n",
            "etkinlik katılımcıları: {'ali', 'ahmet', 'ayşe', 'mehmet', 'fatma'}\n",
            "<class 'set'>\n",
            "{'mehmet', 'ali', 'ahmet'}\n",
            "<class 'set'>\n"
          ]
        }
      ]
    },
    {
      "cell_type": "code",
      "source": [
        "giris = input(\"bir sayı giriniz:\")\n",
        "try:\n",
        "  num = float(giris)\n",
        "  print(f\"girdiğiniz sayı: {num}, tipi: {type(num)},\", abs(num))\n",
        "except ValueError:\n",
        "  print(\"geçersiz giriş\")"
      ],
      "metadata": {
        "colab": {
          "base_uri": "https://localhost:8080/"
        },
        "id": "UNRymZ0kEE0r",
        "outputId": "c440096d-ac0e-476f-8d57-f0768ef8346e"
      },
      "execution_count": null,
      "outputs": [
        {
          "output_type": "stream",
          "name": "stdout",
          "text": [
            "bir sayı giriniz:metin\n",
            "geçersiz giriş\n"
          ]
        }
      ]
    },
    {
      "cell_type": "code",
      "source": [
        "# 0 ile 1 arasında rasgele bir ondalık sayı üretir\n",
        "\n",
        "import random\n",
        "random_float = random.random()\n",
        "random_aralık = random.randint(1,10)\n",
        "random_number = random.uniform(1,10)\n",
        "print(random_aralık)\n",
        "print(random_number)"
      ],
      "metadata": {
        "colab": {
          "base_uri": "https://localhost:8080/"
        },
        "id": "EHdmyoNNFBl9",
        "outputId": "8faf5153-d3eb-4ab7-c2bd-fb3d7508a4a6"
      },
      "execution_count": 3,
      "outputs": [
        {
          "output_type": "stream",
          "name": "stdout",
          "text": [
            "4\n",
            "5.519768245302747\n"
          ]
        }
      ]
    },
    {
      "cell_type": "code",
      "source": [
        "#if koşul yapısı\n",
        "x = 5\n",
        "if x > 0:\n",
        "  print(\"x pozitiftir\")\n",
        "  print(x)\n",
        "elif x < 0:\n",
        "  print(\"x negatiftir\")\n",
        "  print(x)\n",
        "else:\n",
        "  print(\"x sıfırdır\")\n",
        "  print(x)"
      ],
      "metadata": {
        "id": "jkH0EBDB_cgP",
        "colab": {
          "base_uri": "https://localhost:8080/"
        },
        "outputId": "5e1830fe-5cb5-49df-a93c-c69f6bf1724c"
      },
      "execution_count": 4,
      "outputs": [
        {
          "output_type": "stream",
          "name": "stdout",
          "text": [
            "x pozitiftir\n",
            "5\n"
          ]
        }
      ]
    },
    {
      "cell_type": "code",
      "source": [
        "# iç içe Koşul Yapısı\n",
        "x = 5\n",
        "y = 10\n",
        "if x > 0:\n",
        "  if y > 0:\n",
        "    print(\"x ve y pozitiftir\")\n",
        "  else:\n",
        "    print(\"x pozitiftir, y negatiftir\")"
      ],
      "metadata": {
        "colab": {
          "base_uri": "https://localhost:8080/"
        },
        "id": "Tr5lvgdCDukc",
        "outputId": "1fc3b127-6c54-4696-d192-918c8ae6f6c2"
      },
      "execution_count": 8,
      "outputs": [
        {
          "output_type": "stream",
          "name": "stdout",
          "text": [
            "x ve y pozitiftir\n"
          ]
        }
      ]
    },
    {
      "cell_type": "code",
      "source": [
        "#mantıksal operatörler ile ilgili birer örnek\n",
        "x = 5\n",
        "y = 10\n",
        "if x > 0 and y > 0:\n",
        "  print(\"x ve y pozitiftir\")\n",
        "if x > 0 or y > 0:\n",
        "  print(\"x veya y pozitiftir\")\n",
        "  if not x > 0:\n",
        "    print(\"x negatiftir\")"
      ],
      "metadata": {
        "id": "1KgM5Tg4Fl_b"
      },
      "execution_count": null,
      "outputs": []
    },
    {
      "cell_type": "code",
      "source": [
        "# bir yaş aralığını kontrol eden kod\n",
        "yas = 18\n",
        "if yas >= 18:\n",
        "  print(\"yaşınız uygun\")\n",
        "else:\n",
        "  print(\"yaşınız uygun değil\")"
      ],
      "metadata": {
        "id": "8joAuqFlIdw7"
      },
      "execution_count": null,
      "outputs": []
    }
  ]
}
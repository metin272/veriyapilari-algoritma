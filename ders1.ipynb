{
  "nbformat": 4,
  "nbformat_minor": 0,
  "metadata": {
    "colab": {
      "provenance": []
    },
    "kernelspec": {
      "name": "python3",
      "display_name": "Python 3"
    },
    "language_info": {
      "name": "python"
    }
  },
  "cells": [
    {
      "cell_type": "code",
      "source": [
        "\n"
      ],
      "metadata": {
        "id": "Uz7V7YYD6zuL"
      },
      "execution_count": null,
      "outputs": []
    },
    {
      "cell_type": "markdown",
      "source": [
        "pyton programlama dilinde print komutu ekrandan kullanıcıya bilgi veren bir koddur.\n",
        "\n",
        "Veri Yapıları ve Algoritmalar dersi ilk kodlama çıktısıdır. İGÜ İSTKA AKEDEMİ MERKEZİ -19.08.2024"
      ],
      "metadata": {
        "id": "FqYcuHhs6wL7"
      }
    },
    {
      "cell_type": "code",
      "execution_count": 13,
      "metadata": {
        "colab": {
          "base_uri": "https://localhost:8080/"
        },
        "id": "JHC_FQTY3UVo",
        "outputId": "3b52c611-3344-4750-c5fd-e0462df6440a"
      },
      "outputs": [
        {
          "output_type": "stream",
          "name": "stdout",
          "text": [
            "merhaba metin\n",
            "3.10.12 (main, Jul 29 2024, 16:56:48) [GCC 11.4.0]\n",
            "Drive already mounted at /content/drive; to attempt to forcibly remount, call drive.mount(\"/content/drive\", force_remount=True).\n",
            "/content/drive/My Drive/VERI_YAPILARI_ISTKA\n"
          ]
        }
      ],
      "source": [
        "# prompt: print(\"merhaba metin\");\n",
        "\n",
        "print(\"merhaba metin\")\n",
        "import sys\n",
        "print(sys.version)\n",
        "\n",
        "from google.colab import drive # google colab- drive bağlantisi\n",
        "drive.mount('/content/drive')\n",
        "\n",
        "import os\n",
        "os.chdir(\"/content/drive/MyDrive/VERI_YAPILARI_ISTKA\")\n",
        "\n",
        "!pwd   # bize kodun cıktısını dosya yolu olarak veren kod blogdur.\n"
      ]
    },
    {
      "cell_type": "code",
      "source": [],
      "metadata": {
        "id": "a2L-AIqqACKc"
      },
      "execution_count": null,
      "outputs": []
    }
  ]
}